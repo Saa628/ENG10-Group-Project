{
 "cells": [
  {
   "cell_type": "markdown",
   "id": "42aef7c3-a585-420a-b4ac-c43f82f929c7",
   "metadata": {},
   "source": [
    "testing"
   ]
  },
  {
   "cell_type": "code",
   "execution_count": null,
   "id": "55b75057-fcca-45cd-b3c6-2ec8f3c67747",
   "metadata": {},
   "outputs": [],
   "source": [
    "print(\"Hello\") #can you change this so we can see if the repo works"
   ]
  }
 ],
 "metadata": {
  "kernelspec": {
   "display_name": "Python [conda env:base] *",
   "language": "python",
   "name": "conda-base-py"
  },
  "language_info": {
   "codemirror_mode": {
    "name": "ipython",
    "version": 3
   },
   "file_extension": ".py",
   "mimetype": "text/x-python",
   "name": "python",
   "nbconvert_exporter": "python",
   "pygments_lexer": "ipython3",
   "version": "3.12.7"
  }
 },
 "nbformat": 4,
 "nbformat_minor": 5
}
