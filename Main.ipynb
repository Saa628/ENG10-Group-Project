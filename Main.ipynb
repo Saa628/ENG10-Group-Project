{
 "cells": [
  {
   "cell_type": "markdown",
   "id": "42aef7c3-a585-420a-b4ac-c43f82f929c7",
   "metadata": {},
   "source": [
    "link to drive: https://drive.google.com/drive/folders/1xTfNreIPm--WQ_ZAO94Bc36u_1LZyYgS"
   ]
  },
  {
   "cell_type": "code",
   "execution_count": null,
   "id": "55b75057-fcca-45cd-b3c6-2ec8f3c67747",
   "metadata": {},
   "outputs": [],
   "source": [
    "print(\"Hello\") #can you change this so we can see if the repo works"
   ]
  },
  {
   "cell_type": "code",
   "execution_count": 5,
   "id": "6fdbf2c8-6b98-4c8b-8ed3-20fcf68a769e",
   "metadata": {},
   "outputs": [
    {
     "name": "stdout",
     "output_type": "stream",
     "text": [
      "[['Vehicle', 'Speed', 'Acceleration', 'RPM', 'Fuel Consumption', 'Distance\\n'], ['Ford', '15', '.5', '1000', '12.5', '50\\n'], ['Chevy', '20', '.01', '2000', '25.2', '75\\n'], ['Toy-yoda', '100000', '1250', '50000', '.1', '20000000000']]\n"
     ]
    }
   ],
   "source": [
    "#Data management (reading from .csv)\n",
    "def read_vehicle_data(filename):\n",
    "    with open(filename, \"r\") as file:\n",
    "        data = file.readlines()\n",
    "\n",
    "    vehicles = {}\n",
    "    list1 = []\n",
    "    for i in range(len(data)):\n",
    "        list1.append(data[i].split(\",\"))\n",
    "\n",
    "    print(list1)\n",
    "\n",
    "read_vehicle_data(\"vehicle_data.csv\")\n",
    "\n",
    "\n",
    "\n",
    "#Analysis (calculating metrics)\n",
    "\n",
    "\n",
    "\n",
    "#Visualization (matplot)\n",
    "\n",
    "\n",
    "\n",
    "#Custom Functions"
   ]
  },
  {
   "cell_type": "code",
   "execution_count": null,
   "id": "544d18c9-2cce-4cec-af64-bb4352e79109",
   "metadata": {},
   "outputs": [],
   "source": []
  }
 ],
 "metadata": {
  "kernelspec": {
   "display_name": "Python [conda env:base] *",
   "language": "python",
   "name": "conda-base-py"
  },
  "language_info": {
   "codemirror_mode": {
    "name": "ipython",
    "version": 3
   },
   "file_extension": ".py",
   "mimetype": "text/x-python",
   "name": "python",
   "nbconvert_exporter": "python",
   "pygments_lexer": "ipython3",
   "version": "3.12.7"
  }
 },
 "nbformat": 4,
 "nbformat_minor": 5
}
